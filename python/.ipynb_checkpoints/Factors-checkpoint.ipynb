{
 "cells": [
  {
   "cell_type": "code",
   "execution_count": 1,
   "metadata": {
    "collapsed": false
   },
   "outputs": [
    {
     "name": "stderr",
     "output_type": "stream",
     "text": [
      "/Users/andyhorng/anaconda/lib/python2.7/site-packages/matplotlib/font_manager.py:273: UserWarning: Matplotlib is building the font cache using fc-list. This may take a moment.\n",
      "  warnings.warn('Matplotlib is building the font cache using fc-list. This may take a moment.')\n"
     ]
    }
   ],
   "source": [
    "import os, sys\n",
    "\n",
    "import cPickle\n",
    "import pandas as pd\n",
    "from sklearn.preprocessing import StandardScaler\n",
    "import scipy\n",
    "\n",
    "from utils import importRoussetCSV, bilateralTranslations, importFreesurferLookup, saveFakeAparcInput\n",
    "from patterns import parseRawDataset, scaleRawInput\n",
    "\n",
    "def savePatternAsMat(pattern_df, output_file):\n",
    "    scipy.io.savemat(output_file,{'ID': list(pattern_df.index), \n",
    "                                  'Features': list(pattern_df.columns), \n",
    "                                  'Y':pattern_df.T.as_matrix()})\n",
    "\n",
    "def savePatternAsAparc(df, lut_file, bilateral, out_template):\n",
    "    if bilateral:\n",
    "        index_lookup = bilateralTranslations(lut_file)\n",
    "    else:\n",
    "        lut_table = importFreesurferLookup(lut_file)\n",
    "        index_lookup = {v.replace('-','_').upper():[k] for k,v in lut_table.iteritems()}\n",
    "    for colname in df.columns:\n",
    "        output_name = out_template % colname\n",
    "        pattern = dict(df[colname])\n",
    "        saveFakeAparcInput(output_name,pattern,index_lookup)\n",
    "\n",
    "# SETUP FILES\n",
    "master_csv = '../FDG_AV45_COGdata/FDG_AV45_COGdata_04_20_16.csv'\n",
    "data_csv = '../datasets/pvc_adni_av45/mostregions_output.csv'\n",
    "pattern_mat = '../av45_pattern_bl.mat'\n",
    "pattern_mat_2 = '../av45_pattern_scan2.mat'\n",
    "nsfa_activation_csv = '../nsfa/av45_factor_activations.csv'\n",
    "nsfa_activation_csv_2 = '../nsfa/av45_factor_activations_scan2.csv'\n",
    "nsfa_loading_csv = '../nsfa/av45_factor_loadings.csv'\n",
    "model_file = '../dpgmm_alpha12.89_bilateral_spherical_AV45_model_L1.pkl'\n",
    "output_file = '../nsfa/pattern_dataset.csv'\n",
    "topregions_output_file = '../nsfa/top_regions.csv'\n",
    "nsfa_output_template = \"../output/fake_aparc_inputs/nsfa/factor_loading_%s\"\n",
    "igmm_output_template = \"../output/fake_aparc_inputs/igmm/pattern_loading_%s\"\n",
    "dod = False\n",
    "\n",
    "# master_csv = '../DOD_DATA/DOD_DATA_05_06_16.csv'\n",
    "# data_csv = '../datasets/pvc_dod_av45/mostregions_output.csv'\n",
    "# pattern_mat = '../dod_av45_pattern_bl.mat'\n",
    "# pattern_mat_2 = '../dod_av45_pattern_bl.mat'\n",
    "# nsfa_activation_csv = '../nsfa/dod_av45_factor_activations.csv'\n",
    "# nsfa_loading_csv = '../nsfa/dod_av45_factor_loadings.csv'\n",
    "# model_file = None\n",
    "# output_file = '../nsfa/dod_pattern_dataset.csv'\n",
    "# topregions_output_file = '../nsfa/dod_top_regions.csv'\n",
    "# nsfa_output_template = \"../output/fake_aparc_inputs/nsfa/dod_factor_loading_%s\"\n",
    "# igmm_output_template = \"../output/fake_aparc_inputs/igmm/dod_pattern_loading_%s\"\n",
    "# dod = True\n",
    "\n",
    "\n",
    "\n",
    "bilateral = True\n",
    "scale_type = 'original'\n",
    "norm_type = 'L1'\n",
    "tracer = 'AV45'\n",
    "lut_file = \"../FreeSurferColorLUT.txt\"\n",
    "by_subj, threshold = importRoussetCSV(data_csv, translate_threshold=1.11)"
   ]
  },
  {
   "cell_type": "code",
   "execution_count": 2,
   "metadata": {
    "collapsed": false
   },
   "outputs": [
    {
     "name": "stdout",
     "output_type": "stream",
     "text": [
      "1.27\n"
     ]
    }
   ],
   "source": [
    "print threshold"
   ]
  },
  {
   "cell_type": "code",
   "execution_count": null,
   "metadata": {
    "collapsed": true
   },
   "outputs": [],
   "source": []
  }
 ],
 "metadata": {
  "kernelspec": {
   "display_name": "Python 2",
   "language": "python",
   "name": "python2"
  },
  "language_info": {
   "codemirror_mode": {
    "name": "ipython",
    "version": 2
   },
   "file_extension": ".py",
   "mimetype": "text/x-python",
   "name": "python",
   "nbconvert_exporter": "python",
   "pygments_lexer": "ipython2",
   "version": "2.7.11"
  }
 },
 "nbformat": 4,
 "nbformat_minor": 0
}
